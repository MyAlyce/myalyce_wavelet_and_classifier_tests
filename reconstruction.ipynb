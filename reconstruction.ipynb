{
 "cells": [
  {
   "cell_type": "markdown",
   "source": [
    "# Reconstruction using idwt algorithm\n",
    "\n",
    "![](./idwt.png)\n",
    "\n",
    "- cA - approximation coefficient\n",
    "- cD - detail coefficient\n",
    "- highpass - using rec_hi filter bank\n",
    "- lowpass - using rec_lo filter bank\n",
    "- upsampling is done using dyadic upsampling algorithm - inserting zeros in even-indexed elements\n",
    "- thanks to orthogonal properties of the `sym4` wavelet we can reconstruct the signal without losses"
   ],
   "metadata": {
    "collapsed": false
   },
   "id": "ae9d8436eae33938"
  },
  {
   "cell_type": "code",
   "execution_count": 276,
   "id": "initial_id",
   "metadata": {
    "collapsed": true,
    "jupyter": {
     "outputs_hidden": true
    },
    "ExecuteTime": {
     "end_time": "2023-08-10T14:33:02.911930494Z",
     "start_time": "2023-08-10T14:33:02.894355468Z"
    }
   },
   "outputs": [],
   "source": [
    "import matplotlib as mpl\n",
    "import numpy as np\n",
    "import pywt\n",
    "import seaborn as sns\n",
    "\n",
    "sns.set_theme()\n",
    "%matplotlib inline\n",
    "mpl.rcParams['figure.dpi'] = 300"
   ]
  },
  {
   "cell_type": "markdown",
   "source": [
    "Dyadic upsampling. Add zeroes between (by default) even indexed values. "
   ],
   "metadata": {
    "collapsed": false
   },
   "id": "22475084e5513eba"
  },
  {
   "cell_type": "code",
   "execution_count": 277,
   "id": "ea07865c7ead8094",
   "metadata": {
    "collapsed": false,
    "ExecuteTime": {
     "end_time": "2023-08-10T14:33:02.914478207Z",
     "start_time": "2023-08-10T14:33:02.897773726Z"
    }
   },
   "outputs": [],
   "source": [
    "def dyadup(a, even=True):\n",
    "    start = 1 if even else 0\n",
    "    out = np.zeros(len(a) * 2, dtype=a.dtype)\n",
    "    out[start::2] = a\n",
    "    return out"
   ]
  },
  {
   "cell_type": "markdown",
   "source": [
    "Example:"
   ],
   "metadata": {
    "collapsed": false
   },
   "id": "f07c4c4d675e7f6e"
  },
  {
   "cell_type": "code",
   "execution_count": 278,
   "outputs": [
    {
     "name": "stdout",
     "output_type": "stream",
     "text": [
      "[0 1 0 2 0 3 0 4 0 5]\n"
     ]
    }
   ],
   "source": [
    "print(dyadup(np.array([1,2,3,4,5])))"
   ],
   "metadata": {
    "collapsed": false,
    "ExecuteTime": {
     "end_time": "2023-08-10T14:33:02.952410472Z",
     "start_time": "2023-08-10T14:33:02.952120743Z"
    }
   },
   "id": "84927b8535a177a2"
  },
  {
   "cell_type": "markdown",
   "source": [
    "## Inverse discrete wavelet transform"
   ],
   "metadata": {
    "collapsed": false
   },
   "id": "70640cae811cd3d9"
  },
  {
   "cell_type": "code",
   "execution_count": 279,
   "outputs": [],
   "source": [
    "def convolve_1d(s, kernel):\n",
    "    rev_kernel = kernel[::-1].copy()\n",
    "    padsize = kernel.size-1\n",
    "    s = np.pad(s, padsize, mode='constant')\n",
    "    n_steps = s.size - kernel.size + 1\n",
    "\n",
    "    result = np.zeros(n_steps, dtype=np.double)\n",
    "    n_ker = kernel.size\n",
    "    for i in range(n_steps):\n",
    "        result[i] = np.dot(s[i: i + n_ker], rev_kernel)\n",
    "    return result"
   ],
   "metadata": {
    "collapsed": false,
    "ExecuteTime": {
     "end_time": "2023-08-10T14:33:02.952508168Z",
     "start_time": "2023-08-10T14:33:02.952242777Z"
    }
   },
   "id": "89d27e6b6476b48c"
  },
  {
   "cell_type": "code",
   "execution_count": 280,
   "outputs": [],
   "source": [
    "def idwt(ca: np.array, cd: np.array, rec_high: np.array, rec_low: np.array) -> np.array:\n",
    "    if len(ca) != len(cd):\n",
    "        ca = ca[:-1] # cut the last value from approximate coefficients if length is different\n",
    "    _ca = dyadup(ca, even=True) # dyadic upsampling\n",
    "    _cd = dyadup(cd, even=True)\n",
    "    halfa = convolve_1d(_ca, np.array(rec_low)) # compute next approximate coefficients\n",
    "    halfb = convolve_1d(_cd, np.array(rec_high)) # compute next detail coefficients\n",
    "\n",
    "    sig = halfa + halfb\n",
    "    \n",
    "    # `wkeep` in the diagram above. Remove unnecessary values.\n",
    "    _padlen = len(rec_low)\n",
    "    lo = _padlen - 1\n",
    "    hi = len(sig) - (_padlen - 2)\n",
    "    return sig[lo:hi]"
   ],
   "metadata": {
    "collapsed": false,
    "ExecuteTime": {
     "end_time": "2023-08-10T14:33:02.952882625Z",
     "start_time": "2023-08-10T14:33:02.952300722Z"
    }
   },
   "id": "3d8f1d9075c965f0"
  },
  {
   "cell_type": "markdown",
   "source": [
    "## Signal reconstruction\n",
    "\n",
    "Next approximate coefficient is an output of previous `idwt()`. Until required level is reached. Level can be deduced from the length of the coefficient list. "
   ],
   "metadata": {
    "collapsed": false
   },
   "id": "46517ddaa43a0068"
  },
  {
   "cell_type": "code",
   "execution_count": 281,
   "outputs": [],
   "source": [
    "def reconstruct(coeffs: list, rec_high: np.array, rec_low: np.array) -> np.array:\n",
    "    res = idwt(coeffs[0], coeffs[1], rec_high=rec_high, rec_low=rec_low)\n",
    "    level = len(coeffs)\n",
    "    for i in range(2, level):\n",
    "        res = idwt(res, coeffs[i], rec_high=rec_high, rec_low=rec_low)\n",
    "    return res"
   ],
   "metadata": {
    "collapsed": false,
    "ExecuteTime": {
     "end_time": "2023-08-10T14:33:02.952942238Z",
     "start_time": "2023-08-10T14:33:02.952346549Z"
    }
   },
   "id": "db96813fec1467e2"
  },
  {
   "cell_type": "markdown",
   "source": [
    "## Test against pyWavelets `waverec()`"
   ],
   "metadata": {
    "collapsed": false
   },
   "id": "63dfdb0d73a83b47"
  },
  {
   "cell_type": "code",
   "execution_count": 282,
   "outputs": [
    {
     "name": "stdout",
     "output_type": "stream",
     "text": [
      "[ 1.  2.  3.  4.  5.  6.  7.  8.  9. 10. 11. 12. 13. 14. 15. 16. 17. 18.\n",
      " 19. 20. 21. 22. 23. 24. 25. 26. 27. 28. 29. 30. 31. 32. 33. 34. 35. 36.\n",
      " 37. 38. 39. 40. 41. 42. 43. 44. 45. 46. 47. 48. 49. 50. 51. 52. 53. 54.\n",
      " 55. 56. 57. 58. 59. 60. 61. 62. 63. 64. 65. 66. 67. 68. 69. 70.]\n",
      "[ 1.  2.  3.  4.  5.  6.  7.  8.  9. 10. 11. 12. 13. 14. 15. 16. 17. 18.\n",
      " 19. 20. 21. 22. 23. 24. 25. 26. 27. 28. 29. 30. 31. 32. 33. 34. 35. 36.\n",
      " 37. 38. 39. 40. 41. 42. 43. 44. 45. 46. 47. 48. 49. 50. 51. 52. 53. 54.\n",
      " 55. 56. 57. 58. 59. 60. 61. 62. 63. 64. 65. 66. 67. 68. 69. 70.]\n"
     ]
    }
   ],
   "source": [
    "wavelet = pywt.Wavelet('sym4')\n",
    "dec_lo, dec_hi, rec_lo, rec_hi = wavelet.filter_bank\n",
    "\n",
    "sg = np.arange(1, 71)\n",
    "coef = pywt.wavedec(sg, wavelet=wavelet, level=4)\n",
    "\n",
    "print(reconstruct(coef, rec_high=rec_hi, rec_low=rec_lo))\n",
    "print(pywt.waverec(coef, wavelet=wavelet))"
   ],
   "metadata": {
    "collapsed": false,
    "ExecuteTime": {
     "end_time": "2023-08-10T14:33:02.953036610Z",
     "start_time": "2023-08-10T14:33:02.952388154Z"
    }
   },
   "id": "ac2aeec065382bba"
  }
 ],
 "metadata": {
  "kernelspec": {
   "display_name": "Python 3 (ipykernel)",
   "language": "python",
   "name": "python3"
  },
  "language_info": {
   "codemirror_mode": {
    "name": "ipython",
    "version": 3
   },
   "file_extension": ".py",
   "mimetype": "text/x-python",
   "name": "python",
   "nbconvert_exporter": "python",
   "pygments_lexer": "ipython3",
   "version": "3.9.17"
  }
 },
 "nbformat": 4,
 "nbformat_minor": 5
}
