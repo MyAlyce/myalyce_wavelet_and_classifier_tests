{
 "cells": [
  {
   "cell_type": "code",
   "execution_count": 1,
   "id": "initial_id",
   "metadata": {
    "ExecuteTime": {
     "end_time": "2023-08-10T10:28:41.409127755Z",
     "start_time": "2023-08-10T10:28:41.401422293Z"
    },
    "collapsed": true,
    "jupyter": {
     "outputs_hidden": true
    }
   },
   "outputs": [],
   "source": [
    "import matplotlib as mpl\n",
    "import matplotlib.pyplot as plt\n",
    "import numpy as np\n",
    "import pywt\n",
    "import seaborn as sns\n",
    "\n",
    "sns.set_theme()\n",
    "%matplotlib inline\n",
    "mpl.rcParams['figure.dpi'] = 300"
   ]
  },
  {
   "cell_type": "code",
   "execution_count": 2,
   "id": "e2a8bd276626716c",
   "metadata": {
    "ExecuteTime": {
     "end_time": "2023-08-10T10:28:41.409505102Z",
     "start_time": "2023-08-10T10:28:41.404119971Z"
    },
    "collapsed": false,
    "jupyter": {
     "outputs_hidden": false
    }
   },
   "outputs": [],
   "source": [
    "wavelet = pywt.Wavelet('db1')\n",
    "dec_lo, dec_hi, rec_lo, rec_hi = wavelet.filter_bank\n",
    "\n",
    "sg = np.arange(1,11)\n",
    "padlen = len(dec_lo)\n",
    "# print(f\"padlen: {padlen}\")\n",
    "sig = np.pad(sg, padlen, mode='edge')\n",
    "ca = np.convolve(sig, dec_lo, mode='full')[1 + padlen:-padlen:2]\n",
    "cd = np.convolve(sig, dec_hi, mode='full')[1 + padlen:-padlen:2]\n",
    "orig = pywt.dwt(sg, wavelet, mode='constant')\n",
    "# print(f\"Orig:{orig}\")\n",
    "# print(f\"ca:{ca}\")\n",
    "# print(f\"cd:{cd}\")\n",
    "# lev1 = pywt.idwt(cA=ca, cD=cd, wavelet=wavelet, mode='constant')\n",
    "\n",
    "# print(f\"l1:{lev1}\")\n",
    "\n",
    "# tst = np.pad(ca, padlen, mode='constant')\n",
    "# tst = np.insert(ca, np.arange(len(ca)), ca)\n",
    "# print(tst)\n",
    "# rlo = np.convolve(tst, rec_lo, mode='full')\n",
    "# rhi = np.convolve(tst, rec_hi, mode='full')\n",
    "# print(f\"rlo: {rlo}\")\n",
    "# print(f\"rhi: {rhi}\")\n",
    "# print(rlo+rhi)\n",
    "# print(f\"sg:{sg}\")\n",
    "# print(pywt.waverec(coeffs=[ca,cd], wavelet=wavelet))"
   ]
  },
  {
   "cell_type": "code",
   "execution_count": 17,
   "id": "ea07865c7ead8094",
   "metadata": {
    "ExecuteTime": {
     "end_time": "2023-08-10T11:09:59.483566650Z",
     "start_time": "2023-08-10T11:09:59.475312285Z"
    },
    "collapsed": false,
    "jupyter": {
     "outputs_hidden": false
    }
   },
   "outputs": [],
   "source": [
    "def dyadup(a, level=1, even=False):\n",
    "    level += 1\n",
    "    start = 1 if even else 0\n",
    "    out = np.zeros(len(a) * level, dtype=a.dtype)\n",
    "    out[start::level] = a\n",
    "    return out"
   ]
  },
  {
   "cell_type": "code",
   "execution_count": null,
   "id": "3c98b5eb-bd23-4150-a64e-5834560379c0",
   "metadata": {},
   "outputs": [],
   "source": [
    "def convolve_1d(s, kernel):\n",
    "    rev_kernel = kernel[::-1].copy()\n",
    "    padsize = kernel.size-1\n",
    "    s = np.pad(s, padsize, mode='constant')\n",
    "    n_steps = s.size - kernel.size + 1\n",
    "\n",
    "    result = np.zeros(n_steps, dtype=np.double)\n",
    "    n_ker = kernel.size\n",
    "    for i in range(n_steps):\n",
    "        result[i] = np.dot(s[i: i + n_ker], rev_kernel)\n",
    "    return result"
   ]
  },
  {
   "cell_type": "code",
   "execution_count": 16,
   "id": "fde45c0ecebc2a9e",
   "metadata": {
    "ExecuteTime": {
     "end_time": "2023-08-10T11:09:57.495344368Z",
     "start_time": "2023-08-10T11:09:57.479586028Z"
    },
    "collapsed": false,
    "jupyter": {
     "outputs_hidden": false
    }
   },
   "outputs": [],
   "source": [
    "# print(np.convolve(sig, dec_lo, mode='full')[1 + padlen:-padlen:2])\n",
    "# print(len(ca))\n",
    "# print(len(dyadup(ca, even=True)))\n",
    "\n",
    "cad = dyadup(ca, level=1, even=True)\n",
    "cdd = dyadup(cd, level=1, even=True)\n",
    "\n",
    "one = convolve_1d(cad, np.array(dec_lo))\n",
    "two = convolve_1d(cdd, np.array(dec_hi))\n",
    "# two = np.convolve(dyadup(ca), dec_hi, mode='full')\n",
    "# print(one)\n",
    "# print(two)\n",
    "print(one-two)"
   ]
  },
  {
   "cell_type": "code",
   "execution_count": null,
   "id": "5a7b3bd3-3c57-4848-b45a-282b6c26ba57",
   "metadata": {},
   "outputs": [],
   "source": [
    "def reconstruct(coeffs: list, level: int, rec_high: np.array, rec_low: np.array) -> np.array:\n",
    "    _ca = dyadup(coeffs[0], even=True)\n",
    "    _cd1 = dyadup(coeffs[1], even=True)\n",
    "    \n",
    "    halfa = convolve_1d(_ca, np.array(dec_lo))\n",
    "    halfb = convolve_1d(_cd1, np.array(dec_hi))\n",
    "    \n",
    "    sig = halfa-halfb\n",
    "    \n",
    "    return sig"
   ]
  }
 ],
 "metadata": {
  "kernelspec": {
   "display_name": "Python 3 (ipykernel)",
   "language": "python",
   "name": "python3"
  },
  "language_info": {
   "codemirror_mode": {
    "name": "ipython",
    "version": 3
   },
   "file_extension": ".py",
   "mimetype": "text/x-python",
   "name": "python",
   "nbconvert_exporter": "python",
   "pygments_lexer": "ipython3",
   "version": "3.9.17"
  }
 },
 "nbformat": 4,
 "nbformat_minor": 5
}
