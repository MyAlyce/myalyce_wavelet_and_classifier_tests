{
 "cells": [
  {
   "cell_type": "code",
   "execution_count": 1,
   "id": "5a14c36d0adff8fa",
   "metadata": {
    "collapsed": false,
    "ExecuteTime": {
     "end_time": "2023-08-09T14:35:52.079662435Z",
     "start_time": "2023-08-09T14:35:52.034180667Z"
    }
   },
   "outputs": [],
   "source": [
    "import pywt\n",
    "import matplotlib.pyplot as plt\n",
    "import matplotlib as mpl\n",
    "import numpy as np\n",
    "import seaborn as sns\n",
    "sns.set_theme()\n",
    "%matplotlib inline\n",
    "mpl.rcParams['figure.dpi'] = 300"
   ]
  },
  {
   "cell_type": "markdown",
   "source": [
    "Create simple signal and kernel to test the function."
   ],
   "metadata": {
    "collapsed": false
   },
   "id": "3839b9816186bca7"
  },
  {
   "cell_type": "code",
   "execution_count": 2,
   "outputs": [],
   "source": [
    "x = np.array(range(20))\n",
    "kern = np.array([1,2,3])"
   ],
   "metadata": {
    "collapsed": false,
    "ExecuteTime": {
     "end_time": "2023-08-09T14:35:52.079788270Z",
     "start_time": "2023-08-09T14:35:52.076026401Z"
    }
   },
   "id": "21af5ea28c452310"
  },
  {
   "cell_type": "markdown",
   "source": [
    "We need to reverse the kernel to correctly convolve with the given signal\n",
    "```rev_kernel = kernel[::-1].copy()```"
   ],
   "metadata": {
    "collapsed": false
   },
   "id": "a00fb584e52458ec"
  },
  {
   "cell_type": "markdown",
   "source": [
    "This function performs `full` convolution, meaning that we pad signal with zeros to preserve the original size. Padding is based on the kernel size - 1. For example if kernel is `[1,2,3]`, we will pad the signal with two zeros front and back."
   ],
   "metadata": {
    "collapsed": false
   },
   "id": "26dce2764fc53ab9"
  },
  {
   "cell_type": "code",
   "execution_count": 7,
   "outputs": [
    {
     "name": "stdout",
     "output_type": "stream",
     "text": [
      "[1, 2, 3, 4, 5]\n",
      "[0 0 1 2 3 4 5 0 0]\n"
     ]
    }
   ],
   "source": [
    "print([1,2,3,4,5])\n",
    "print(np.pad([1,2,3,4,5], 2))"
   ],
   "metadata": {
    "collapsed": false,
    "ExecuteTime": {
     "end_time": "2023-08-09T14:51:36.062058956Z",
     "start_time": "2023-08-09T14:51:36.049536178Z"
    }
   },
   "id": "88f9a6b5ed5096e"
  },
  {
   "cell_type": "markdown",
   "source": [
    "`np.zeros()` creates a zero-filled array of a given shape"
   ],
   "metadata": {
    "collapsed": false
   },
   "id": "bebeaecd45070ce3"
  },
  {
   "cell_type": "markdown",
   "source": [
    "`np.dot()` is a dot-product of two arrays. Much faster than using for loops and sums."
   ],
   "metadata": {
    "collapsed": false
   },
   "id": "3669abc4e42ba433"
  },
  {
   "cell_type": "code",
   "execution_count": 3,
   "outputs": [
    {
     "name": "stdout",
     "output_type": "stream",
     "text": [
      "[  0.   1.   4.  10.  16.  22.  28.  34.  40.  46.  52.  58.  64.  70.\n",
      "  76.  82.  88.  94. 100. 106.  92.  57.]\n",
      "[  0   1   4  10  16  22  28  34  40  46  52  58  64  70  76  82  88  94\n",
      " 100 106  92  57]\n"
     ]
    }
   ],
   "source": [
    "def convolve_1d(signal, kernel):\n",
    "    rev_kernel = kernel[::-1].copy()\n",
    "    padsize = kernel.size-1\n",
    "    signal = np.pad(signal, padsize, mode='constant')\n",
    "    n_steps = signal.size - kernel.size + 1\n",
    "\n",
    "    result = np.zeros(n_steps, dtype=np.double)\n",
    "    n_ker = kernel.size\n",
    "    for i in range(n_steps):\n",
    "        result[i] = np.dot(signal[i: i + n_ker], rev_kernel)\n",
    "    return result\n",
    "\n",
    "print(convolve_1d(x, kern))\n",
    "print(np.convolve(x, kern, mode='full'))"
   ],
   "metadata": {
    "collapsed": false,
    "ExecuteTime": {
     "end_time": "2023-08-09T14:35:52.079902519Z",
     "start_time": "2023-08-09T14:35:52.076110402Z"
    }
   },
   "id": "initial_id"
  }
 ],
 "metadata": {
  "kernelspec": {
   "display_name": "Python 3 (ipykernel)",
   "language": "python",
   "name": "python3"
  },
  "language_info": {
   "codemirror_mode": {
    "name": "ipython",
    "version": 3
   },
   "file_extension": ".py",
   "mimetype": "text/x-python",
   "name": "python",
   "nbconvert_exporter": "python",
   "pygments_lexer": "ipython3",
   "version": "3.9.17"
  }
 },
 "nbformat": 4,
 "nbformat_minor": 5
}
