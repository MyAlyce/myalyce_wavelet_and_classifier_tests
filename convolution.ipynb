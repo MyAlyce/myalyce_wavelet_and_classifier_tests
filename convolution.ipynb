{
 "cells": [
  {
   "cell_type": "code",
   "execution_count": 1,
   "id": "5a14c36d0adff8fa",
   "metadata": {
    "collapsed": false,
    "ExecuteTime": {
     "end_time": "2023-08-09T11:45:05.151891779Z",
     "start_time": "2023-08-09T11:45:05.107265553Z"
    }
   },
   "outputs": [],
   "source": [
    "import pywt\n",
    "import matplotlib.pyplot as plt\n",
    "import matplotlib as mpl\n",
    "import numpy as np\n",
    "import seaborn as sns\n",
    "sns.set_theme()\n",
    "%matplotlib inline\n",
    "mpl.rcParams['figure.dpi'] = 300"
   ]
  },
  {
   "cell_type": "code",
   "execution_count": 138,
   "outputs": [],
   "source": [
    "x = np.array(range(20))\n",
    "kern = np.array([1,2,3])"
   ],
   "metadata": {
    "collapsed": false,
    "ExecuteTime": {
     "end_time": "2023-08-09T12:24:46.967192900Z",
     "start_time": "2023-08-09T12:24:46.954904909Z"
    }
   },
   "id": "21af5ea28c452310"
  },
  {
   "cell_type": "code",
   "execution_count": 139,
   "outputs": [
    {
     "name": "stdout",
     "output_type": "stream",
     "text": [
      "[  0.   1.   4.  10.  16.  22.  28.  34.  40.  46.  52.  58.  64.  70.\n",
      "  76.  82.  88.  94. 100. 106.  92.  57.]\n",
      "[  0   1   4  10  16  22  28  34  40  46  52  58  64  70  76  82  88  94\n",
      " 100 106  92  57]\n"
     ]
    }
   ],
   "source": [
    "def convolve_1d(signal, kernel):\n",
    "    rev_kernel = kernel[::-1].copy()\n",
    "    padsize = kernel.size-1\n",
    "    signal = np.pad(signal, padsize, mode='constant')\n",
    "    n_steps = signal.size - kernel.size + 1\n",
    "\n",
    "    result = np.zeros(n_steps, dtype=np.double)\n",
    "    n_ker = kernel.size\n",
    "    for i in range(n_steps):\n",
    "        result[i] = np.dot(signal[i: i + n_ker], rev_kernel)\n",
    "    return result\n",
    "\n",
    "print(convolve_1d(x, kern))\n",
    "print(np.convolve(x, kern, mode='full'))"
   ],
   "metadata": {
    "collapsed": false,
    "ExecuteTime": {
     "end_time": "2023-08-09T12:24:47.779009501Z",
     "start_time": "2023-08-09T12:24:47.771564418Z"
    }
   },
   "id": "initial_id"
  },
  {
   "cell_type": "code",
   "execution_count": 115,
   "outputs": [
    {
     "data": {
      "text/plain": "2.0"
     },
     "execution_count": 115,
     "metadata": {},
     "output_type": "execute_result"
    }
   ],
   "source": [
    "np.rint(kern.size/2)\n",
    "np.ceil(kern.size/2)"
   ],
   "metadata": {
    "collapsed": false,
    "ExecuteTime": {
     "end_time": "2023-08-09T12:23:21.268042578Z",
     "start_time": "2023-08-09T12:23:21.259724374Z"
    }
   },
   "id": "7b67f30b7422cfb5"
  }
 ],
 "metadata": {
  "kernelspec": {
   "display_name": "Python 3 (ipykernel)",
   "language": "python",
   "name": "python3"
  },
  "language_info": {
   "codemirror_mode": {
    "name": "ipython",
    "version": 3
   },
   "file_extension": ".py",
   "mimetype": "text/x-python",
   "name": "python",
   "nbconvert_exporter": "python",
   "pygments_lexer": "ipython3",
   "version": "3.9.17"
  }
 },
 "nbformat": 4,
 "nbformat_minor": 5
}
