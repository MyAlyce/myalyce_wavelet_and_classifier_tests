{
 "cells": [
  {
   "cell_type": "code",
   "execution_count": null,
   "outputs": [],
   "source": [
    "import pywt\n",
    "import matplotlib.pyplot as plt\n",
    "import matplotlib as mpl\n",
    "import numpy as np\n",
    "import seaborn as sns\n",
    "sns.set_theme()\n",
    "%matplotlib inline\n",
    "mpl.rcParams['figure.dpi'] = 300"
   ],
   "metadata": {
    "collapsed": false
   },
   "id": "5a14c36d0adff8fa"
  },
  {
   "cell_type": "code",
   "execution_count": null,
   "id": "initial_id",
   "metadata": {
    "collapsed": true
   },
   "outputs": [],
   "source": [
    "def xcorr_1d(signal, kernel, n_steps=None):\n",
    "    \"\"\"\n",
    "    Calculate n_steps of the sliding dot product,\n",
    "    a.k.a. the cross-correlation,\n",
    "    between a one dimensional signal and a one dimensional kernel.\n",
    "\n",
    "    Start with the beginning (zeroth elements) of the kernel and signal\n",
    "    aligned.\n",
    "    Shift the kernel up by one position each iteration.\n",
    "    \"\"\"\n",
    "    if n_steps is None:\n",
    "        n_steps = signal.size - kernel.size + 1\n",
    "\n",
    "    result = np.zeros(n_steps, dtype=np.double)\n",
    "    n_ker = kernel.size\n",
    "    for i in range(n_steps):\n",
    "        # Using np.dot() instead of np.sum() over the products cuts\n",
    "        # the computation time down by a factor of 5.\n",
    "        result[i] = np.dot(signal[i: i + n_ker], kernel)\n",
    "    return result"
   ]
  },
  {
   "cell_type": "code",
   "execution_count": null,
   "outputs": [],
   "source": [
    "def convolve_1d(signal, kernel):\n",
    "    \"\"\"\n",
    "    Head to head with NumPy's convolve(), this function comes in\n",
    "    about 25% slower. Not a bad trade-off for all the flexibility\n",
    "    that buys.\n",
    "    \"\"\"\n",
    "    n_sig = signal.size\n",
    "    n_ker = kernel.size\n",
    "    n_conv = n_sig - n_ker + 1\n",
    "    # Precalculating the reversed kernel cuts the computation time down\n",
    "    # by a factor of 3.\n",
    "    rev_kernel = kernel[::-1].copy()\n",
    "    return xcorr_1d(signal, rev_kernel, n_conv)\n"
   ],
   "metadata": {
    "collapsed": false
   },
   "id": "8f91c01f077c954a"
  }
 ],
 "metadata": {
  "kernelspec": {
   "display_name": "Python 3",
   "language": "python",
   "name": "python3"
  },
  "language_info": {
   "codemirror_mode": {
    "name": "ipython",
    "version": 2
   },
   "file_extension": ".py",
   "mimetype": "text/x-python",
   "name": "python",
   "nbconvert_exporter": "python",
   "pygments_lexer": "ipython2",
   "version": "2.7.6"
  }
 },
 "nbformat": 4,
 "nbformat_minor": 5
}
