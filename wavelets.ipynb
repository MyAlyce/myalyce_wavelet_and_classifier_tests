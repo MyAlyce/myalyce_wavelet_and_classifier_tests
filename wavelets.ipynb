{
 "cells": [
  {
   "cell_type": "code",
   "execution_count": 1,
   "id": "initial_id",
   "metadata": {
    "collapsed": true,
    "ExecuteTime": {
     "end_time": "2023-08-07T14:05:29.974723751Z",
     "start_time": "2023-08-07T14:05:29.888462270Z"
    }
   },
   "outputs": [],
   "source": [
    "from scipy.signal import butter, lfilter\n",
    "from sklearn import preprocessing\n",
    "import pandas as pd\n",
    "from pathlib import Path\n",
    "import pywt\n",
    "import matplotlib.pyplot as plt\n",
    "import matplotlib as mpl\n",
    "import numpy as np\n",
    "import seaborn as sns\n",
    "sns.set_theme()\n",
    "%matplotlib inline\n",
    "mpl.rcParams['figure.dpi'] = 300"
   ]
  },
  {
   "cell_type": "code",
   "execution_count": 17,
   "outputs": [],
   "source": [
    "signal = list(range(1,10))"
   ],
   "metadata": {
    "collapsed": false,
    "ExecuteTime": {
     "end_time": "2023-08-07T14:07:03.390088536Z",
     "start_time": "2023-08-07T14:07:03.380421168Z"
    }
   },
   "id": "3f01f461820af1fe"
  },
  {
   "cell_type": "code",
   "execution_count": 18,
   "outputs": [],
   "source": [
    "coeffs = pywt.wavedec(signal, 'db1', level=2)"
   ],
   "metadata": {
    "collapsed": false,
    "ExecuteTime": {
     "end_time": "2023-08-07T14:07:04.058410238Z",
     "start_time": "2023-08-07T14:07:04.052279956Z"
    }
   },
   "id": "faf2bdb4b77d8571"
  },
  {
   "cell_type": "code",
   "execution_count": 22,
   "outputs": [
    {
     "name": "stdout",
     "output_type": "stream",
     "text": [
      "cA2: [ 5. 13. 18.]\n",
      "cD2: [-2. -2.  0.]\n",
      "cD1: [-0.70710678 -0.70710678 -0.70710678 -0.70710678  0.        ]\n"
     ]
    }
   ],
   "source": [
    "cA2, cD2, cD1 = coeffs\n",
    "print(f\"cA2: {cA2}\")\n",
    "print(f\"cD2: {cD2}\")\n",
    "print(f\"cD1: {cD1}\")"
   ],
   "metadata": {
    "collapsed": false,
    "ExecuteTime": {
     "end_time": "2023-08-07T14:07:58.866486377Z",
     "start_time": "2023-08-07T14:07:58.804829614Z"
    }
   },
   "id": "aa1c16d3f38a1c6c"
  },
  {
   "cell_type": "code",
   "execution_count": null,
   "outputs": [],
   "source": [
    "wavelet = pywt.Wavelet('db1')\n",
    "dec_lo, dec_hi, rec_lo, rec_hi = wavelet.filter_bank"
   ],
   "metadata": {
    "collapsed": false
   },
   "id": "f825359e4c8439f7"
  },
  {
   "cell_type": "code",
   "execution_count": null,
   "outputs": [],
   "source": [
    "cA = np.convolve(df['red'], dec_lo)[1::2]\n",
    "cD = np.convolve(df['red'], dec_hi)[1::2]\n",
    "maxlev = pywt.dwt_max_level(len(df['red']), w.dec_len)\n",
    "print(maxlev)\n",
    "coeffs = pywt.wavedec(df['red'], 'sym4', level=maxlev)\n",
    "# plt.plot(np.linspace(0, 1., num=len(coeffs[0])), coeffs[0], lw=0.5)\n",
    "# plt.plot(np.linspace(0, 1., num=len(cA[3:-3])), cA[3:-3], lw=0.5)"
   ],
   "metadata": {
    "collapsed": false
   },
   "id": "189830ef629695a0"
  }
 ],
 "metadata": {
  "kernelspec": {
   "display_name": "Python 3",
   "language": "python",
   "name": "python3"
  },
  "language_info": {
   "codemirror_mode": {
    "name": "ipython",
    "version": 2
   },
   "file_extension": ".py",
   "mimetype": "text/x-python",
   "name": "python",
   "nbconvert_exporter": "python",
   "pygments_lexer": "ipython2",
   "version": "2.7.6"
  }
 },
 "nbformat": 4,
 "nbformat_minor": 5
}
